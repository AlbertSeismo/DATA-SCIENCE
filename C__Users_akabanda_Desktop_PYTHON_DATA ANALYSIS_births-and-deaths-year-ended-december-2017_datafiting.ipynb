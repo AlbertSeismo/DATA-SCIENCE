{
 "cells": [
  {
   "cell_type": "code",
   "execution_count": 118,
   "metadata": {},
   "outputs": [],
   "source": [
    "#import pandas as pd\n",
    "from pandas import *\n",
    "from pandas.plotting import scatter_matrix\n",
    "from matplotlib.pyplot import *\n",
    "from numpy import *\n",
    "from scipy import *\n",
    "from scipy import stats \n",
    "from sklearn import *\n",
    "import seaborn as sn"
   ]
  },
  {
   "cell_type": "code",
   "execution_count": 119,
   "metadata": {},
   "outputs": [],
   "source": [
    "#loading the data by providing the paths\n",
    "url = r\"C:\\Users\\akabanda\\Desktop\\PYTHON\\DATA ANALYSIS\\births-and-deaths-year-ended-december-2017\\acme.csv\"\n"
   ]
  },
  {
   "cell_type": "code",
   "execution_count": 120,
   "metadata": {},
   "outputs": [],
   "source": [
    "data = read_csv(url)\n",
    "datafr = DataFrame(data)"
   ]
  },
  {
   "cell_type": "code",
   "execution_count": 121,
   "metadata": {
    "scrolled": false
   },
   "outputs": [
    {
     "name": "stdout",
     "output_type": "stream",
     "text": [
      "    Number   month    market      acme\n",
      "0        1  Jan-86 -0.061134  0.030160\n",
      "1        2  Feb-86  0.008220 -0.165457\n",
      "2        3  Mar-86 -0.007381  0.080137\n",
      "3        4  Apr-86 -0.067561 -0.109917\n",
      "4        5  May-86 -0.006238 -0.114853\n",
      "5        6  Jun-86 -0.044251 -0.099254\n",
      "6        7  Jul-86 -0.112070 -0.226846\n",
      "7        8  Aug-86  0.030226  0.073445\n",
      "8        9  Sep-86 -0.129556 -0.143064\n",
      "9       10  Oct-86  0.001319  0.034776\n",
      "10      11  Nov-86 -0.033679 -0.063375\n",
      "11      12  Dec-86 -0.072795 -0.058735\n",
      "12      13  Jan-87  0.073396  0.050214\n",
      "13      14  Feb-87 -0.011618  0.111165\n",
      "14      15  Mar-87 -0.026852 -0.127492\n",
      "15      16  Apr-87 -0.040356  0.054522\n",
      "16      17  May-87 -0.047539 -0.072918\n",
      "17      18  Jun-87 -0.001732 -0.058979\n",
      "18      19  Jul-87 -0.008899  0.236147\n",
      "19      20  Aug-87 -0.020837 -0.094778\n",
      "20      21  Sep-87 -0.084811 -0.135669\n",
      "21      22  Oct-87 -0.262077 -0.284796\n",
      "22      23  Nov-87 -0.110167 -0.171494\n",
      "23      24  Dec-87  0.034955  0.242616\n",
      "24      25  Jan-88  0.012688 -0.063518\n",
      "25      26  Feb-88 -0.002170 -0.117677\n",
      "26      27  Mar-88 -0.073462  0.201674\n",
      "27      28  Apr-88 -0.043419 -0.147728\n",
      "28      29  May-88 -0.054730 -0.170885\n",
      "29      30  Jun-88 -0.011755 -0.014893\n",
      "30      31  Jul-88 -0.061718 -0.110515\n",
      "31      32  Aug-88 -0.101710 -0.168769\n",
      "32      33  Sep-88 -0.032705 -0.135585\n",
      "33      34  Oct-88 -0.045334 -0.084077\n",
      "34      35  Nov-88 -0.079288 -0.164550\n",
      "35      36  Dec-88 -0.036233  0.150269\n",
      "36      37  Jan-89 -0.011494 -0.015672\n",
      "37      38  Feb-89 -0.093729 -0.037860\n",
      "38      39  Mar-89 -0.065215 -0.074712\n",
      "39      40  Apr-89 -0.037113 -0.108530\n",
      "40      41  May-89 -0.044399 -0.036769\n",
      "41      42  Jun-89 -0.084412  0.023912\n",
      "42      43  Jul-89  0.003444 -0.078430\n",
      "43      44  Aug-89 -0.056760 -0.132199\n",
      "44      45  Sep-89 -0.078970 -0.110141\n",
      "45      46  Oct-89 -0.105367 -0.126302\n",
      "46      47  Nov-89 -0.038634 -0.095730\n",
      "47      48  Dec-89 -0.043261  0.065740\n",
      "48      49  Jan-90 -0.139773 -0.120056\n",
      "49      50  Feb-90 -0.059094 -0.085205\n",
      "50      51  Mar-90 -0.057736 -0.130433\n",
      "51      52  Apr-90 -0.102524 -0.116728\n",
      "52      53  May-90  0.023881 -0.078039\n",
      "53      54  Jun-90 -0.079116 -0.170322\n",
      "54      55  Jul-90 -0.078965 -0.077727\n",
      "55      56  Aug-90 -0.161359 -0.277035\n",
      "56      57  Sep-90 -0.119376 -0.207595\n",
      "57      58  Oct-90 -0.076008 -0.070515\n",
      "58      59  Nov-90 -0.006444 -0.046274\n",
      "59      60  Dec-90 -0.026401 -0.190834\n"
     ]
    }
   ],
   "source": [
    "print(datafr)"
   ]
  },
  {
   "cell_type": "code",
   "execution_count": 122,
   "metadata": {},
   "outputs": [
    {
     "data": {
      "text/html": [
       "<div>\n",
       "<style scoped>\n",
       "    .dataframe tbody tr th:only-of-type {\n",
       "        vertical-align: middle;\n",
       "    }\n",
       "\n",
       "    .dataframe tbody tr th {\n",
       "        vertical-align: top;\n",
       "    }\n",
       "\n",
       "    .dataframe thead th {\n",
       "        text-align: right;\n",
       "    }\n",
       "</style>\n",
       "<table border=\"1\" class=\"dataframe\">\n",
       "  <thead>\n",
       "    <tr style=\"text-align: right;\">\n",
       "      <th></th>\n",
       "      <th>Number</th>\n",
       "      <th>market</th>\n",
       "      <th>acme</th>\n",
       "    </tr>\n",
       "  </thead>\n",
       "  <tbody>\n",
       "    <tr>\n",
       "      <th>count</th>\n",
       "      <td>60.000000</td>\n",
       "      <td>60.000000</td>\n",
       "      <td>60.000000</td>\n",
       "    </tr>\n",
       "    <tr>\n",
       "      <th>mean</th>\n",
       "      <td>30.500000</td>\n",
       "      <td>-0.051168</td>\n",
       "      <td>-0.068969</td>\n",
       "    </tr>\n",
       "    <tr>\n",
       "      <th>std</th>\n",
       "      <td>17.464249</td>\n",
       "      <td>0.053629</td>\n",
       "      <td>0.111572</td>\n",
       "    </tr>\n",
       "    <tr>\n",
       "      <th>min</th>\n",
       "      <td>1.000000</td>\n",
       "      <td>-0.262077</td>\n",
       "      <td>-0.284796</td>\n",
       "    </tr>\n",
       "    <tr>\n",
       "      <th>25%</th>\n",
       "      <td>15.750000</td>\n",
       "      <td>-0.079007</td>\n",
       "      <td>-0.133046</td>\n",
       "    </tr>\n",
       "    <tr>\n",
       "      <th>50%</th>\n",
       "      <td>30.500000</td>\n",
       "      <td>-0.044867</td>\n",
       "      <td>-0.089992</td>\n",
       "    </tr>\n",
       "    <tr>\n",
       "      <th>75%</th>\n",
       "      <td>45.250000</td>\n",
       "      <td>-0.011587</td>\n",
       "      <td>-0.031495</td>\n",
       "    </tr>\n",
       "    <tr>\n",
       "      <th>max</th>\n",
       "      <td>60.000000</td>\n",
       "      <td>0.073396</td>\n",
       "      <td>0.242616</td>\n",
       "    </tr>\n",
       "  </tbody>\n",
       "</table>\n",
       "</div>"
      ],
      "text/plain": [
       "          Number     market       acme\n",
       "count  60.000000  60.000000  60.000000\n",
       "mean   30.500000  -0.051168  -0.068969\n",
       "std    17.464249   0.053629   0.111572\n",
       "min     1.000000  -0.262077  -0.284796\n",
       "25%    15.750000  -0.079007  -0.133046\n",
       "50%    30.500000  -0.044867  -0.089992\n",
       "75%    45.250000  -0.011587  -0.031495\n",
       "max    60.000000   0.073396   0.242616"
      ]
     },
     "execution_count": 122,
     "metadata": {},
     "output_type": "execute_result"
    }
   ],
   "source": [
    "datafr.describe()"
   ]
  },
  {
   "cell_type": "code",
   "execution_count": 123,
   "metadata": {},
   "outputs": [],
   "source": [
    "#scatter_matrix(datafr)"
   ]
  },
  {
   "cell_type": "code",
   "execution_count": 124,
   "metadata": {},
   "outputs": [
    {
     "data": {
      "image/png": "[encoded data removed]",
      "text/plain": [
       "<Figure size 432x288 with 1 Axes>"
      ]
     },
     "metadata": {
      "needs_background": "light"
     },
     "output_type": "display_data"
    }
   ],
   "source": [
    "scatter(datafr['market'],datafr['acme'])\n",
    "xlabel('Market')\n",
    "ylabel('acme')\n",
    "title('The variation of acme with market')\n",
    "show()"
   ]
  },
  {
   "cell_type": "code",
   "execution_count": 125,
   "metadata": {},
   "outputs": [
    {
     "data": {
      "text/plain": [
       "<matplotlib.axes._subplots.AxesSubplot at 0x123b8eb0>"
      ]
     },
     "execution_count": 125,
     "metadata": {},
     "output_type": "execute_result"
    },
    {
     "data": {
      "image/png": "[encoded data removed]",
      "text/plain": [
       "<Figure size 432x288 with 1 Axes>"
      ]
     },
     "metadata": {
      "needs_background": "light"
     },
     "output_type": "display_data"
    }
   ],
   "source": [
    "#The regression line shows a positive correlation between the market variable and the acme variable\n",
    "\n",
    "x = datafr['market']\n",
    "y = datafr['acme']\n",
    "grid(True)\n",
    "title('A graph showing a positive correlation between the market and acme variable')\n",
    "\n",
    "sn.regplot(x,y)    #This regplot is a seaborn function"
   ]
  },
  {
   "cell_type": "code",
   "execution_count": 129,
   "metadata": {},
   "outputs": [
    {
     "name": "stdout",
     "output_type": "stream",
     "text": [
      "The Pearson rank correlation is = 0.5444279164960159 \n",
      "\n",
      "The P value = 6.903101083120121e-06\n"
     ]
    }
   ],
   "source": [
    "#Finding the pearson correlation coefficient and the P-value for this data\n",
    "\n",
    "x = datafr['market']\n",
    "y = datafr['acme']\n",
    "    \n",
    "Pearson_coef,p_value = stats.pearsonr(x,y)\n",
    "print('The Pearson rank correlation is =',Pearson_coef, '\\n\\nThe P value =', p_value)"
   ]
  },
  {
   "cell_type": "code",
   "execution_count": 142,
   "metadata": {},
   "outputs": [
    {
     "name": "stdout",
     "output_type": "stream",
     "text": [
      "The gradient of the best fit model = 1.1326574583182496 \n",
      "\n",
      "The Y-intercept = -0.011013093375534353\n"
     ]
    },
    {
     "data": {
      "image/png": "[encoded data removed]",
      "text/plain": [
       "<Figure size 432x288 with 1 Axes>"
      ]
     },
     "metadata": {
      "needs_background": "light"
     },
     "output_type": "display_data"
    }
   ],
   "source": [
    "#predicting the model that fitis the data\n",
    "#I will first use the polyfit function since the data seems to follow under a linear trend\n",
    "#lets assume the model Y= b_0+b_1*x\n",
    "\n",
    "(b_1,b_0) = polyfit(x,y,1)\n",
    "\n",
    "print('The gradient of the best fit model =',b_1, '\\n\\nThe Y-intercept =',b_0)\n",
    "\n",
    "Y= b_0+b_1*x\n",
    "\n",
    "scatter(x,y)\n",
    "plot(x,Y,'g')\n",
    "xlabel('Market')\n",
    "ylabel('acme')\n",
    "title('The variation of acme with market, showing the line of best fit')\n",
    "grid(True)\n",
    "legend(['Y= b_0+b_1*x'], loc= 'best')\n",
    "show()"
   ]
  },
  {
   "cell_type": "code",
   "execution_count": 148,
   "metadata": {},
   "outputs": [
    {
     "name": "stdout",
     "output_type": "stream",
     "text": [
      "The gradient of the best fit model = [[1.13265746]] \n",
      "\n",
      "The Y-intercept = [-0.01101309]\n"
     ]
    },
    {
     "data": {
      "image/png": "[encoded data removed]",
      "text/plain": [
       "<Figure size 432x288 with 1 Axes>"
      ]
     },
     "metadata": {
      "needs_background": "light"
     },
     "output_type": "display_data"
    }
   ],
   "source": [
    "#predicting the model that fits the data\n",
    "#I secondly use the lm.fit function since the data seems to follow under a linear trend\n",
    "#lets assume the model Y= b_0+b_1*x\n",
    "\n",
    "from sklearn.linear_model import LinearRegression\n",
    "\n",
    "lm = LinearRegression()\n",
    "\n",
    "x = datafr[['market']]\n",
    "y = datafr[['acme']]\n",
    "\n",
    "lm.fit(x,y)\n",
    "\n",
    "Y_ = lm.predict(x)\n",
    "\n",
    "B_0 = lm.intercept_\n",
    "\n",
    "B_1 = lm.coef_\n",
    "\n",
    "print('The gradient of the best fit model =',B_1, '\\n\\nThe Y-intercept =',B_0)\n",
    "\n",
    "scatter(x,y)\n",
    "plot(x,Y,'g')\n",
    "xlabel('Market')\n",
    "ylabel('acme')\n",
    "title('The variation of acme with market, showing the line of best fit')\n",
    "grid(True)\n",
    "legend(['Y= b_0+b_1*x'], loc= 'best')\n",
    "show()\n"
   ]
  },
  {
   "cell_type": "code",
   "execution_count": null,
   "metadata": {},
   "outputs": [],
   "source": [
    "#Based on the gradients and intercepts from the two ways of calculations, we can see that the numbers are the same implying that\n",
    "#the model is the same"
   ]
  }
 ],
 "metadata": {
  "kernelspec": {
   "display_name": "Python 3",
   "language": "python",
   "name": "python3"
  },
  "language_info": {
   "codemirror_mode": {
    "name": "ipython",
    "version": 3
   },
   "file_extension": ".py",
   "mimetype": "text/x-python",
   "name": "python",
   "nbconvert_exporter": "python",
   "pygments_lexer": "ipython3",
   "version": "3.7.1"
  }
 },
 "nbformat": 4,
 "nbformat_minor": 2
}
